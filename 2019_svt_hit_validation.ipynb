{
 "cells": [
  {
   "cell_type": "code",
   "execution_count": 1,
   "metadata": {},
   "outputs": [],
   "source": [
    "from __future__ import division\n",
    "\n",
    "import uproot\n",
    "import matplotlib\n",
    "import matplotlib.pyplot as plt\n",
    "import numpy as np\n",
    "\n",
    "plt.style.use('seaborn-deep')"
   ]
  },
  {
   "cell_type": "code",
   "execution_count": 2,
   "metadata": {},
   "outputs": [],
   "source": [
    "data_ntuple = uproot.open('data.root')['SvtHits']\n",
    "mc_ntuple = uproot.open('mc.root')['SvtHits']\n",
    "mc_beam_ntuple = uproot.open('mc_beam.root')['SvtHits']"
   ]
  },
  {
   "cell_type": "code",
   "execution_count": 3,
   "metadata": {},
   "outputs": [],
   "source": [
    "def draw_histogram1D(ax, variable, x_min, x_max, bins, **kargs):\n",
    "    \n",
    "    label = ''\n",
    "    if 'label' in kargs: \n",
    "        label = kargs['label']\n",
    "        \n",
    "    norm = False\n",
    "    if 'normalize' in kargs: \n",
    "        norm = kargs['normalize']\n",
    "        \n",
    "    ls='-'\n",
    "    if 'linestyle' in kargs: \n",
    "        ls = kargs['linestyle']\n",
    "        \n",
    "    \n",
    "    matplotlib.rcParams.update({'font.size': 22})\n",
    "    \n",
    "    x_bins = np.linspace(x_min, x_max, bins)\n",
    "    if 'color' in kargs: \n",
    "        ax.hist(variable, bins=x_bins, histtype='step', linewidth=2, label=label, normed=norm, \n",
    "                ls=ls, color=kargs['color'])\n",
    "    else: \n",
    "        ax.hist(variable, bins=x_bins, histtype='step', linewidth=2, label=label, normed=norm, ls=ls)\n",
    "    \n",
    "    if 'x_label' in kargs: \n",
    "        ax.set_xlabel(kargs['x_label'], fontsize=30)\n",
    "    \n",
    "    ax.minorticks_on()\n",
    "    ax.tick_params(which='major', length=10, width=2, direction='inout', labelsize=30)\n",
    "    ax.tick_params(which='minor', length=5, width=2, direction='in', labelsize=30)\n",
    "    \n",
    "    ax.set_title('$\\it{HPS}$ $\\it{Simulation}$ $\\it{Internal}$', x=.82)\n",
    "    \n",
    "def error(bins,edges):\n",
    "    \n",
    "    # Just estimate the error as the sqrt of the count\n",
    "    err = [np.sqrt(x) for x in bins]\n",
    "    errmin = []\n",
    "    errmax = []\n",
    "    for x,err in zip(bins,err):\n",
    "        errmin.append(x-err/2)\n",
    "        errmax.append(x+err/2)\n",
    "\n",
    "    return errmin, errmax\n",
    "\n",
    "def ratio_error(bins1, bins2):\n",
    "    \n",
    "    err1 = np.array([np.true_divide(np.sqrt(x), x) for x in bins1])\n",
    "    err2 = np.array([np.true_divide(np.sqrt(x), x) for x in bins2])\n",
    "    \n",
    "    err = np.sqrt(err1*err1 + err2*err2)\n",
    "    \n",
    "    bins = get_ratio(bins1, bins2)\n",
    "    \n",
    "\n",
    "    errmin = []\n",
    "    errmax = []\n",
    "    for x,err in zip(bins,err):\n",
    "        errmin.append(x-err/2)\n",
    "        errmax.append(x+err/2)\n",
    "\n",
    "    return errmin, errmax\n",
    "\n",
    "def get_ratio(bin1,bin2):\n",
    "    # Sanity check\n",
    "    if len(bin1) != len(bin2):\n",
    "        print(\"Cannot make ratio!\")\n",
    "    \n",
    "    bins = []\n",
    "    for b1,b2 in zip(bin1,bin2):\n",
    "        if b1==0 and b2==0:\n",
    "            bins.append(1.)\n",
    "        elif b2==0:\n",
    "            bins.append(0.)\n",
    "        else:\n",
    "            bins.append(float(b1)/float(b2))\n",
    "    \n",
    "    # The ratio can of course be expanded with eg. error\n",
    "    return bins\n",
    "\n",
    "def ratio_error(bins1, bins2):\n",
    "    \n",
    "    err1 = np.array([np.true_divide(np.sqrt(x), x) for x in bins1])\n",
    "    err2 = np.array([np.true_divide(np.sqrt(x), x) for x in bins2])\n",
    "    \n",
    "    err = np.sqrt(err1*err1 + err2*err2)\n",
    "\n",
    "    return err\n",
    "\n",
    "    \n",
    "def data_mc_overlay(data, mc, x_min, x_max, bins, **kargs): \n",
    "    \n",
    "        label = ''\n",
    "        if 'label' in kargs: \n",
    "            label = kargs['label']\n",
    "    \n",
    "        x_bins = np.linspace(x_min, x_max, bins)\n",
    "        dbins, dedges = np.histogram(data, bins=x_bins)\n",
    "        mcbins, mcedges = np.histogram(mc, bins=x_bins)\n",
    "        \n",
    "        # Find the integrals of each of the histograms\n",
    "        dint  = dbins.sum()\n",
    "        mcint = mcbins.sum()\n",
    "        \n",
    "        derrmin, derrmax = error(dbins, dedges)\n",
    "        mcerrmin, mcerrmax = error(mcbins, mcedges)\n",
    "        rerr = ratio_error(dbins, mcbins)\n",
    "        \n",
    "        derrmin = np.true_divide(derrmin, dint)\n",
    "        derrmax = np.true_divide(derrmax, dint)\n",
    "        mcerrmin = np.true_divide(mcerrmin, mcint)\n",
    "        mcerrmax = np.true_divide(mcerrmax, mcint)\n",
    "        \n",
    "        # Normalize each bin to the integral\n",
    "        dbins  = np.true_divide(dbins,  dint)\n",
    "        mcbins = np.true_divide(mcbins, mcint)\n",
    "        \n",
    "        dedges = dedges[:len(dedges)-1]\n",
    "        mcedges = mcedges[:len(mcedges)-1]\n",
    "        \n",
    "        fig = plt.figure(figsize=(16, 12), facecolor='white')\n",
    "        grid = plt.GridSpec(5, 1, hspace=0.1, wspace=0.2)\n",
    "        \n",
    "        # Plot as colored o's, connected\n",
    "        ax = fig.add_subplot(grid[:4, 0])\n",
    "        ax_r = fig.add_subplot(grid[4, 0], sharex=ax)\n",
    "        plt.setp(ax.get_xticklabels(), visible=False)\n",
    "        \n",
    "        ax.plot(dedges, dbins, 'o', color='#4C72B0', lw=2, label='Data')\n",
    "        ax.step(mcedges, mcbins, where='mid', color='#55A868', lw=2, label='MC')\n",
    "\n",
    "        leg = ax.legend()\n",
    "        \n",
    "        # Plot the error bars\n",
    "        ax.vlines(dedges, derrmin, derrmax, color='#4C72B0')\n",
    "        ax.vlines(mcedges, mcerrmin, mcerrmax, color='#55A868')\n",
    "        \n",
    "        ax.set_title('$\\it{HPS}$ $\\it{Internal}$', x=.82)\n",
    "\n",
    "        # Plot the ratio\n",
    "\n",
    "        rat = get_ratio(dbins, mcbins)\n",
    "        \n",
    "        rerrmin = []\n",
    "        rerrmax = []\n",
    "        for x,err in zip(rat, rerr):\n",
    "            rerrmin.append(x-err/2)\n",
    "            rerrmax.append(x+err/2)\n",
    "        \n",
    "        ax_r.plot(dedges,rat, 'o', color='black')\n",
    "        ax_r.vlines(dedges, rerrmin, rerrmax, color='black')\n",
    "        ax_r.set_ylim(0,2)\n",
    "        ax_r.set_ylabel('Data/MC')\n",
    "        \n",
    "        if 'x_label' in kargs: \n",
    "            ax_r.set_xlabel(kargs['x_label'], fontsize=30)\n",
    "    \n",
    "        #ax.set_xlabel(\"Variable name\")\n",
    "    "
   ]
  },
  {
   "cell_type": "code",
   "execution_count": 4,
   "metadata": {},
   "outputs": [],
   "source": [
    "data_hit_arr  = {}\n",
    "data_hit_farr = {}\n",
    "for key in data_ntuple.keys():\n",
    "    data_hit_arr[key]  = data_ntuple.array(key)\n",
    "    data_hit_farr[key] = data_hit_arr[key].flatten()\n",
    "    \n",
    "mc_hit_arr  = {}\n",
    "mc_hit_farr = {}\n",
    "for key in mc_ntuple.keys(): \n",
    "    mc_hit_arr[key]  = mc_ntuple.array(key)\n",
    "    mc_hit_farr[key] = mc_hit_arr[key].flatten() \n",
    "    \n",
    "mc_beam_arr  = {}\n",
    "mc_beam_farr = {}\n",
    "for key in mc_beam_ntuple.keys(): \n",
    "    mc_beam_arr[key]  = mc_beam_ntuple.array(key)\n",
    "    mc_beam_farr[key] = mc_beam_arr[key].flatten() "
   ]
  },
  {
   "cell_type": "code",
   "execution_count": null,
   "metadata": {},
   "outputs": [],
   "source": [
    "fig, ax = plt.subplots(nrows=1, ncols=1, figsize=(16, 10), facecolor='white')\n",
    "draw_histogram1D(ax, mc_beam_farr['sim_hit_count'],   0, 270, 271, x_label=\"Hit Multiplicity, All Layers\", label=\"Sim Hits\")\n",
    "draw_histogram1D(ax, mc_beam_farr['raw_hit_count'],   0, 270, 271, label=\"Raw Hits\")\n",
    "draw_histogram1D(ax, mc_beam_farr['strip_cluster_count'], 0, 270, 271, label=\"1D Strip Hits\")\n",
    "\n",
    "ax.legend(loc=1, fontsize=30)"
   ]
  },
  {
   "cell_type": "code",
   "execution_count": null,
   "metadata": {},
   "outputs": [],
   "source": [
    "#fig, ax = plt.subplots(2, 14, sharex='col', sharey='row')\n",
    "#for i in range(14): \n",
    "#    draw_histogram(ax[0, i], mc_hit_farr['raw_hit_count'][]"
   ]
  },
  {
   "cell_type": "code",
   "execution_count": null,
   "metadata": {},
   "outputs": [],
   "source": [
    "data_mc_overlay(data_hit_farr['raw_hit_count'],  mc_beam_farr['raw_hit_count'], \n",
    "                0, 400, 201, x_label='Raw Hit Multiplicity, All Layers' )"
   ]
  },
  {
   "cell_type": "code",
   "execution_count": null,
   "metadata": {},
   "outputs": [],
   "source": [
    "data_mc_overlay(data_hit_farr['strip_cluster_count'],  mc_beam_farr['strip_cluster_count'], \n",
    "                0, 200, 101, x_label='1D Strip Hit Multiplicity, All Layers' )"
   ]
  },
  {
   "cell_type": "code",
   "execution_count": null,
   "metadata": {},
   "outputs": [],
   "source": [
    "fig, ax = plt.subplots(nrows=1, ncols=1, figsize=(16, 10), facecolor='white', sharex='col', sharey='row')\n",
    "fig.subplots_adjust(hspace=0.05, wspace=0.05)\n",
    "\n",
    "\n",
    "cut = (mc_beam_farr['raw_hit_is_top'] == 1) & (mc_beam_farr['raw_hit_is_ele_side'] == 1)\n",
    "draw_histogram1D(ax, mc_beam_farr['raw_hit_layer'][cut] - 1, 0, 14, 15, \n",
    "                 label=\"Top\", color='#55A868', x_label='Layer')\n",
    "cut = (mc_beam_farr['raw_hit_is_top'] == 1) & (mc_beam_farr['raw_hit_is_pos_side'] == 1)\n",
    "draw_histogram1D(ax, mc_beam_farr['raw_hit_layer'][cut] - 1, 0, 14, 15, linestyle='--', color='#55A868')\n",
    "\n",
    "cut = (mc_beam_farr['raw_hit_is_bot'] == 1) & (mc_beam_farr['raw_hit_is_ele_side'] == 1)\n",
    "draw_histogram1D(ax, mc_beam_farr['raw_hit_layer'][cut] - 1, 0, 14, 15, \n",
    "                 label=\"Bottom\", color='#4C72B0')\n",
    "cut = (mc_beam_farr['raw_hit_is_bot'] == 1) & (mc_beam_farr['raw_hit_is_pos_side'] == 1)\n",
    "draw_histogram1D(ax, mc_beam_farr['raw_hit_layer'][cut] - 1, 0, 14, 15, linestyle='--', color='#4C72B0')\n",
    "\n",
    "ax.legend(loc=1, fontsize=30)"
   ]
  },
  {
   "cell_type": "code",
   "execution_count": null,
   "metadata": {},
   "outputs": [],
   "source": [
    "fig, ax = plt.subplots(nrows=1, ncols=1, figsize=(16, 10), facecolor='white', sharex='col', sharey='row')\n",
    "fig.subplots_adjust(hspace=0.05, wspace=0.05)\n",
    "\n",
    "\n",
    "cut = (mc_beam_farr['strip_cluster_is_top'] == 1) & (mc_beam_farr['strip_cluster_is_ele_side'] == 1)\n",
    "draw_histogram1D(ax, mc_beam_farr['strip_cluster_layer'][cut] - 1, 0, 14, 15, \n",
    "                 label=\"Top\", color='#55A868', x_label='Layer')\n",
    "cut = (mc_beam_farr['strip_cluster_is_top'] == 1) & (mc_beam_farr['strip_cluster_is_pos_side'] == 1)\n",
    "draw_histogram1D(ax, mc_beam_farr['strip_cluster_layer'][cut] - 1, 0, 14, 15, linestyle='--', color='#55A868')\n",
    "\n",
    "cut = (mc_beam_farr['strip_cluster_is_bot'] == 1) & (mc_beam_farr['strip_cluster_is_ele_side'] == 1)\n",
    "draw_histogram1D(ax, mc_beam_farr['strip_cluster_layer'][cut] - 1, 0, 14, 15, \n",
    "                 label=\"Bottom\", color='#4C72B0')\n",
    "cut = (mc_beam_farr['strip_cluster_is_bot'] == 1) & (mc_beam_farr['strip_cluster_is_pos_side'] == 1)\n",
    "draw_histogram1D(ax, mc_beam_farr['strip_cluster_layer'][cut] - 1, 0, 14, 15, linestyle='--', color='#4C72B0')\n",
    "\n",
    "ax.legend(loc=1, fontsize=30)"
   ]
  },
  {
   "cell_type": "code",
   "execution_count": null,
   "metadata": {},
   "outputs": [],
   "source": [
    "fig, ax = plt.subplots(nrows=1, ncols=1, figsize=(16, 10), facecolor='white', sharex='col', sharey='row')\n",
    "fig.subplots_adjust(hspace=0.05, wspace=0.05)\n",
    "\n",
    "\n",
    "cut = (mc_beam\n",
    "       _farr['raw_hit_is_top'] == 1) & (mc_beam_farr['raw_hit_is_ele_side'] == 1)\n",
    "draw_histogram1D(ax, mc_beam_farr['raw_hit_layer'][cut] - 1, 0, 14, 15, \n",
    "                 label=\"Top\", color='#55A868', x_label='Layer')\n",
    "cut = (mc_beam_farr['raw_hit_is_top'] == 1) & (mc_beam_farr['raw_hit_is_pos_side'] == 1)\n",
    "draw_histogram1D(ax, mc_beam_farr['raw_hit_layer'][cut] - 1, 0, 14, 15, linestyle='--', color='#55A868')\n",
    "\n",
    "cut = (mc_beam_farr['raw_hit_is_bot'] == 1) & (mc_beam_farr['raw_hit_is_ele_side'] == 1)\n",
    "draw_histogram1D(ax, mc_beam_farr['raw_hit_layer'][cut] - 1, 0, 14, 15, \n",
    "                 label=\"Bottom\", color='#4C72B0')\n",
    "cut = (mc_beam_farr['raw_hit_is_bot'] == 1) & (mc_beam_farr['raw_hit_is_pos_side'] == 1)\n",
    "draw_histogram1D(ax, mc_beam_farr['raw_hit_layer'][cut] - 1, 0, 14, 15, linestyle='--', color='#4C72B0\n",
    "                 ax.legend(loc=1, fontsize=30)                              "
   ]
  },
  {
   "cell_type": "code",
   "execution_count": null,
   "metadata": {},
   "outputs": [],
   "source": [
    "fig, ax = plt.subplots(nrows=1, ncols=1, figsize=(16, 10), facecolor='white')\n",
    "cut = (mc_hit_farr['raw_hit_layer'] == 1) & (mc_hit_farr['raw_hit_is_top'] == 1)\n",
    "draw_histogram1D(ax, mc_hit_farr['raw_hit_strip'][cut], 0, 639, 640,\n",
    "                 x_label='Physical Channel', label='Layer 0 - Top - Axial', normalize=True)\n",
    "\n",
    "cut = (mc_hit_farr['raw_hit_layer'] == 5) & (mc_hit_farr['raw_hit_is_top'] == 1)\n",
    "draw_histogram1D(ax, mc_hit_farr['raw_hit_strip'][cut], 0, 639, 640,\n",
    "                 label='Layer 2 - Top - Axial', normalize=True)\n",
    "\n",
    "\n",
    "ax.set_yscale(\"log\")\n",
    "ax.legend(loc=9, fontsize=30)"
   ]
  },
  {
   "cell_type": "code",
   "execution_count": null,
   "metadata": {},
   "outputs": [],
   "source": [
    "dcut = (data_hit_farr['raw_hit_layer'] == 1) & (data_hit_farr['raw_hit_is_top'] == 1)\n",
    "mccut = (mc_beam_farr['raw_hit_layer'] == 1) & (mc_beam_farr['raw_hit_is_top'] == 1)\n",
    "data_mc_overlay(data_hit_farr['raw_hit_strip'][dcut],  mc_beam_farr['raw_hit_strip'][mccut], \n",
    "                0, 639, 640, x_label='Physical Channel' )"
   ]
  },
  {
   "cell_type": "code",
   "execution_count": null,
   "metadata": {},
   "outputs": [],
   "source": [
    "dcut = (data_hit_farr['raw_hit_layer'] == 5) & (data_hit_farr['raw_hit_is_top'] == 1)\n",
    "mccut = (mc_beam_farr['raw_hit_layer'] == 5) & (mc_beam_farr['raw_hit_is_top'] == 1)\n",
    "data_mc_overlay(data_hit_farr['raw_hit_strip'][dcut],  mc_beam_farr['raw_hit_strip'][mccut], \n",
    "                0, 639, 640, x_label='Physical Channel' )"
   ]
  },
  {
   "cell_type": "code",
   "execution_count": null,
   "metadata": {},
   "outputs": [],
   "source": [
    "fig, ax = plt.subplots(nrows=1, ncols=1, figsize=(16, 10), facecolor='white')\n",
    "cut = data_hit_farr['raw_hit_layer'] <=4\n",
    "anti_cut = data_hit_farr['raw_hit_layer'] > 4\n",
    "draw_histogram1D(ax, data_hit_farr['raw_hit_strip'][anti_cut], 0, 639, 640, x_label='Physical Channel', label='Layer > 2')\n",
    "draw_histogram1D(ax, data_hit_farr['raw_hit_strip'][cut], 0, 639, 640, label='Layer 0/1')\n",
    "\n",
    "ax.legend(loc=2, fontsize=30)"
   ]
  },
  {
   "cell_type": "code",
   "execution_count": null,
   "metadata": {},
   "outputs": [],
   "source": [
    "fig, ax = plt.subplots(nrows=1, ncols=1, figsize=(16, 10), facecolor='white')\n",
    "\n",
    "x_bins, y_bins = np.linspace(0, 5, 6), np.linspace(4000, 8000, 2001)\n",
    "sample1 = np.zeros(len(mc_hit_farr['raw_hit_layer']))\n",
    "sample2 = np.ones(len(mc_hit_farr['raw_hit_layer']))\n",
    "sample3 = np.ones(len(mc_hit_farr['raw_hit_layer']))*2\n",
    "sample4 = np.ones(len(mc_hit_farr['raw_hit_layer']))*3\n",
    "sample5 = np.ones(len(mc_hit_farr['raw_hit_layer']))*4\n",
    "sample6 = np.ones(len(mc_hit_farr['raw_hit_layer']))*5\n",
    "cut = ((mc_hit_farr['raw_hit_layer'] == 1) & (mc_hit_farr['raw_hit_is_top'] == 1))\n",
    "ax.hist2d(sample1[cut], mc_hit_farr['raw_hit_adc0'][cut], bins=[x_bins, y_bins], cmap='jet', norm=matplotlib.colors.LogNorm())\n",
    "ax.hist2d(sample2[cut], mc_hit_farr['raw_hit_adc1'][cut], bins=[x_bins, y_bins], cmap='jet', norm=matplotlib.colors.LogNorm())\n",
    "ax.hist2d(sample3[cut], mc_hit_farr['raw_hit_adc2'][cut], bins=[x_bins, y_bins], cmap='jet', norm=matplotlib.colors.LogNorm());\n",
    "ax.hist2d(sample4[cut], mc_hit_farr['raw_hit_adc3'][cut], bins=[x_bins, y_bins], cmap='jet', norm=matplotlib.colors.LogNorm());\n",
    "ax.hist2d(sample5[cut], mc_hit_farr['raw_hit_adc4'][cut], bins=[x_bins, y_bins], cmap='jet', norm=matplotlib.colors.LogNorm());\n",
    "ax.hist2d(sample6[cut], mc_hit_farr['raw_hit_adc5'][cut], bins=[x_bins, y_bins], cmap='jet', norm=matplotlib.colors.LogNorm());\n",
    "ax.set_xlabel('Sample Number')\n",
    "ax.set_ylabel('Amplitude (ADC Counts)')\n",
    "ax.set_title('$\\it{HPS}$ $\\it{Simulation}$ $\\it{Internal}$', x=.82)"
   ]
  },
  {
   "cell_type": "code",
   "execution_count": null,
   "metadata": {},
   "outputs": [],
   "source": [
    "fig, ax = plt.subplots(nrows=1, ncols=1, figsize=(16, 10), facecolor='white')\n",
    "\n",
    "x_bins, y_bins = np.linspace(0, 5, 6), np.linspace(4000, 8000, 2001)\n",
    "sample1 = np.zeros(len(mc_hit_farr['raw_hit_layer']))\n",
    "sample2 = np.ones(len(mc_hit_farr['raw_hit_layer']))\n",
    "sample3 = np.ones(len(mc_hit_farr['raw_hit_layer']))*2\n",
    "sample4 = np.ones(len(mc_hit_farr['raw_hit_layer']))*3\n",
    "sample5 = np.ones(len(mc_hit_farr['raw_hit_layer']))*4\n",
    "sample6 = np.ones(len(mc_hit_farr['raw_hit_layer']))*5\n",
    "cut = ((mc_hit_farr['raw_hit_layer'] == 5) & (mc_hit_farr['raw_hit_is_top'] == 1))\n",
    "ax.hist2d(sample1[cut], mc_hit_farr['raw_hit_adc0'][cut], bins=[x_bins, y_bins], cmap='jet', norm=matplotlib.colors.LogNorm())\n",
    "ax.hist2d(sample2[cut], mc_hit_farr['raw_hit_adc1'][cut], bins=[x_bins, y_bins], cmap='jet', norm=matplotlib.colors.LogNorm())\n",
    "ax.hist2d(sample3[cut], mc_hit_farr['raw_hit_adc2'][cut], bins=[x_bins, y_bins], cmap='jet', norm=matplotlib.colors.LogNorm());\n",
    "ax.hist2d(sample4[cut], mc_hit_farr['raw_hit_adc3'][cut], bins=[x_bins, y_bins], cmap='jet', norm=matplotlib.colors.LogNorm());\n",
    "ax.hist2d(sample5[cut], mc_hit_farr['raw_hit_adc4'][cut], bins=[x_bins, y_bins], cmap='jet', norm=matplotlib.colors.LogNorm());\n",
    "ax.hist2d(sample6[cut], mc_hit_farr['raw_hit_adc5'][cut], bins=[x_bins, y_bins], cmap='jet', norm=matplotlib.colors.LogNorm());\n",
    "ax.set_xlabel('Sample Number')\n",
    "ax.set_ylabel('Amplitude (ADC Counts)')\n",
    "ax.set_title('$\\it{HPS}$ $\\it{Simulation}$ $\\it{Internal}$', x=.82)"
   ]
  },
  {
   "cell_type": "code",
   "execution_count": null,
   "metadata": {},
   "outputs": [],
   "source": [
    "fig, ax = plt.subplots(nrows=1, ncols=1, figsize=(16, 10), facecolor='white')\n",
    "\n",
    "x_bins, y_bins = np.linspace(-25, 25, 100), np.linspace(0, 639, 640)\n",
    "cut = (mc_hit_farr['sim_hit_layer'] == 1) & (mc_hit_farr['sim_hit_is_top'] == 1)\n",
    "ax.hist2d(mc_hit_farr['sim_hit_x'][cut], mc_hit_farr['sim_hit_raw_strip'][cut], bins=[x_bins, y_bins], cmap='jet', norm=matplotlib.colors.LogNorm());\n",
    "\n",
    "ax.set_title('$\\it{HPS}$ $\\it{Simulation}$ $\\it{Internal}$', x=.82)\n",
    "ax.set_xlabel('SimTrackerHit x (mm)', fontsize=30)\n",
    "ax.set_ylabel('Physical Channel', fontsize=30)"
   ]
  },
  {
   "cell_type": "code",
   "execution_count": null,
   "metadata": {},
   "outputs": [],
   "source": []
  },
  {
   "cell_type": "code",
   "execution_count": null,
   "metadata": {},
   "outputs": [],
   "source": [
    "fig, ax = plt.subplots(nrows=1, ncols=1, figsize=(16, 10), facecolor='white')\n",
    "\n",
    "x_bins, y_bins = np.linspace(-25, 25, 100), np.linspace(0, 639, 640)\n",
    "cut = ((mc_hit_farr['sim_hit_layer'] == 1) & (mc_hit_farr['sim_hit_y'] < 0))\n",
    "ax.hist2d(mc_hit_farr['sim_hit_x'][cut], mc_hit_farr['sim_hit_raw_strip'][cut], bins=[x_bins, y_bins], cmap='jet', norm=matplotlib.colors.LogNorm());"
   ]
  },
  {
   "cell_type": "code",
   "execution_count": null,
   "metadata": {},
   "outputs": [],
   "source": [
    "fig, ax = plt.subplots(nrows=1, ncols=1, figsize=(16, 10), facecolor='white')\n",
    "\n",
    "x_bins, y_bins = np.linspace(-25, 25, 100), np.linspace(0, 639, 640)\n",
    "cut = (mc_hit_farr['sim_hit_layer'] == 1) & (mc_hit_farr['sim_hit_is_top'] == 1)\n",
    "ax.hist2d(mc_hit_farr['sim_hit_y'][cut], mc_hit_farr['sim_hit_raw_strip'][cut], bins=[x_bins, y_bins], cmap='jet', norm=matplotlib.colors.LogNorm());\n",
    "\n",
    "cut = (mc_hit_farr['sim_hit_layer'] == 2) & (mc_hit_farr['sim_hit_is_bot'] == 1)\n",
    "ax.hist2d(mc_hit_farr['sim_hit_y'][cut], mc_hit_farr['sim_hit_raw_strip'][cut], bins=[x_bins, y_bins], cmap='jet', norm=matplotlib.colors.LogNorm());\n",
    "\n",
    "ax.set_title('$\\it{HPS}$ $\\it{Simulation}$ $\\it{Internal}$', x=.82)\n",
    "ax.set_xlabel('SimTrackerHit y (mm)', fontsize=30)\n",
    "ax.set_ylabel('Physical Channel', fontsize=30)"
   ]
  },
  {
   "cell_type": "code",
   "execution_count": null,
   "metadata": {},
   "outputs": [],
   "source": [
    "matplotlib.rcParams.update({'font.size': 22})\n",
    "\n",
    "fig, ax = plt.subplots(nrows=1, ncols=1, figsize=(16, 10), facecolor='white')\n",
    "\n",
    "x_bins, y_bins = np.linspace(-100, 100, 100), np.linspace(-100, 100, 100)\n",
    "ax.hist2d(mc_beam_farr['sim_hit_x'], mc_beam_farr['sim_hit_y'], bins=[x_bins, y_bins], cmap='jet', norm=matplotlib.colors.LogNorm());"
   ]
  },
  {
   "cell_type": "code",
   "execution_count": null,
   "metadata": {},
   "outputs": [],
   "source": [
    "matplotlib.rcParams.update({'font.size': 22})\n",
    "\n",
    "fig, ax = plt.subplots(nrows=1, ncols=1, figsize=(16, 10), facecolor='white')\n",
    "\n",
    "x_bins, y_bins = np.linspace(-25, 25, 100), np.linspace(-25, 25, 100)\n",
    "\n",
    "cut = hit_farr['sim_hit_layer'] == 1\n",
    "\n",
    "ax.hist2d(hit_farr['sim_hit_x'][cut], \n",
    "          hit_farr['sim_hit_y'][cut], \n",
    "          bins=[x_bins, y_bins], cmap='jet', norm=matplotlib.colors.LogNorm());"
   ]
  },
  {
   "cell_type": "code",
   "execution_count": null,
   "metadata": {},
   "outputs": [],
   "source": [
    "matplotlib.rcParams.update({'font.size': 22})\n",
    "\n",
    "fig, ax = plt.subplots(nrows=1, ncols=1, figsize=(16, 10), facecolor='white')\n",
    "\n",
    "x_bins, y_bins = np.linspace(-100, 100, 100), np.linspace(-100, 100, 100)\n",
    "ax.hist2d(hit_farr['strip_hit_y'], hit_farr['strip_hit_x'], bins=[x_bins, y_bins], cmap='jet', norm=matplotlib.colors.LogNorm());"
   ]
  },
  {
   "cell_type": "code",
   "execution_count": null,
   "metadata": {},
   "outputs": [],
   "source": [
    "fig, ax = plt.subplots(nrows=1, ncols=1, figsize=(16, 10), facecolor='white')\n",
    "cut = (mc_hit_farr['strip_cluster_is_bot'] == 1)\n",
    "draw_histogram1D(ax, mc_hit_farr['strip_cluster_z'][cut], 0, 1000, 500, x_label='Strip Hit z (mm)', label='Bottom')\n",
    "cut = (mc_hit_farr['strip_cluster_is_top'] == 1)\n",
    "draw_histogram1D(ax, mc_hit_farr['strip_cluster_z'][cut], 0, 1000, 500, label='Top')\n",
    "\n",
    "ax.legend(loc=1, fontsize=30)"
   ]
  },
  {
   "cell_type": "code",
   "execution_count": null,
   "metadata": {},
   "outputs": [],
   "source": [
    "fig, ax = plt.subplots(nrows=1, ncols=1, figsize=(16, 10), facecolor='white')\n",
    "cut = (data_hit_farr['strip_hit_y'] < 0)\n",
    "draw_histogram1D(ax, data_hit_farr['strip_hit_z'][cut], 0, 1000, 500, x_label='Strip Hit z (mm)', label='Bottom')\n",
    "cut = (data_hit_farr['strip_hit_y'] > 0)\n",
    "draw_histogram1D(ax, data_hit_farr['strip_hit_z'][cut], 0, 1000, 500, label='Top')\n",
    "\n",
    "ax.legend(loc=1, fontsize=30)"
   ]
  },
  {
   "cell_type": "code",
   "execution_count": null,
   "metadata": {},
   "outputs": [],
   "source": []
  },
  {
   "cell_type": "code",
   "execution_count": null,
   "metadata": {},
   "outputs": [],
   "source": [
    "matplotlib.rcParams.update({'font.size': 22})\n",
    "\n",
    "fig, ax = plt.subplots(nrows=1, ncols=1, figsize=(16, 10), facecolor='white')\n",
    "\n",
    "x_bins, y_bins = np.linspace(-30, 20, 100), np.linspace(-40, 20, 100)\n",
    "cut = ((hit_farr['strip_hit_y'] < 0) & (hit_farr['strip_hit_z'] < 55))\n",
    "ax.hist2d(hit_farr['strip_hit_x'][cut], hit_farr['strip_hit_y'][cut], bins=[x_bins, y_bins], cmap='jet', norm=matplotlib.colors.LogNorm());"
   ]
  },
  {
   "cell_type": "code",
   "execution_count": null,
   "metadata": {},
   "outputs": [],
   "source": [
    "dcut = (data_hit_farr['strip_cluster_is_top'] == 1) & (data_hit_farr['strip_cluster_layer'] == 1)\n",
    "mccut = (mc_beam_farr['strip_cluster_is_top'] == 1) & (mc_beam_farr['strip_cluster_layer'] == 1)\n",
    "\n",
    "data_mc_overlay(data_hit_farr['strip_cluster_size'][dcut],  mc_beam_farr['strip_cluster_size'][mccut], \n",
    "                0, 10, 11, x_label='Strip Cluster Size' )\n"
   ]
  },
  {
   "cell_type": "code",
   "execution_count": null,
   "metadata": {},
   "outputs": [],
   "source": [
    "dcut = (data_hit_farr['strip_cluster_is_top'] == 1) & (data_hit_farr['strip_cluster_layer'] == 5)\n",
    "mccut = (mc_beam_farr['strip_cluster_is_top'] == 1) & (mc_beam_farr['strip_cluster_layer'] == 5)\n",
    "\n",
    "data_mc_overlay(data_hit_farr['strip_cluster_size'][dcut],  mc_beam_farr['strip_cluster_size'][mccut], \n",
    "                0, 10, 11, x_label='Strip Cluster Size' )\n"
   ]
  },
  {
   "cell_type": "code",
   "execution_count": null,
   "metadata": {},
   "outputs": [],
   "source": [
    "fig, ax = plt.subplots(nrows=1, ncols=1, figsize=(16, 10), facecolor='white')\n",
    "cut = (mc_beam_farr['sim_hit_layer'] == 1) & (mc_beam_farr['sim_hit_is_top'] == 1) & (mc_beam_farr['sim_hit_raw_strip'] < 256)\n",
    "draw_histogram1D(ax, mc_beam_farr['sim_hit_strip_res_x'][cut], -25, 25, 101, \n",
    "                 x_label='Sim Hit x - Strip Hit x (mm), Layer 0 - Top - Axial', label='Channel < 256')\n",
    "\n",
    "cut = (mc_beam_farr['sim_hit_layer'] == 1) & (mc_beam_farr['sim_hit_is_top'] == 1) & (mc_beam_farr['sim_hit_raw_strip'] >= 256)\n",
    "draw_histogram1D(ax, mc_beam_farr['sim_hit_strip_res_x'][cut], -25, 25, 101, label='Channel >= 256')\n",
    "\n",
    "ax.legend(loc=2, fontsize=30)"
   ]
  },
  {
   "cell_type": "code",
   "execution_count": null,
   "metadata": {},
   "outputs": [],
   "source": [
    "fig, ax = plt.subplots(nrows=1, ncols=1, figsize=(16, 10), facecolor='white')\n",
    "cut = (mc_beam_farr['sim_hit_layer'] == 1) & (mc_beam_farr['sim_hit_is_top'] == 1) & (mc_beam_farr['sim_hit_raw_strip'] < 256) & (mc_beam_farr['sim_hit_strip_size'] > 1)\n",
    "cut = cut & (mc_beam_farr['sim_hit_strip_res_x'] != -9999)\n",
    "draw_histogram1D(ax, mc_beam_farr['sim_hit_strip_res_x'][cut]/mc_beam_farr['sim_hit_strip_res_xerr'][cut], -2, 2, 101, \n",
    "                 x_label='Pull, Layer 0 - Top - Axial', label='Channel < 256')\n",
    "\n",
    "cut = (mc_beam_farr['sim_hit_layer'] == 1) & (mc_beam_farr['sim_hit_is_top'] == 1) & (mc_beam_farr['sim_hit_raw_strip'] >= 256) & (mc_beam_farr['sim_hit_strip_size'] > 1)\n",
    "cut = cut & (mc_beam_farr['sim_hit_strip_res_x'] != -9999)\n",
    "draw_histogram1D(ax, mc_beam_farr['sim_hit_strip_res_x'][cut]/mc_beam_farr['sim_hit_strip_res_xerr'][cut], -2, 2, 101, label='Channel >= 256')\n",
    "\n",
    "ax.legend(loc=2, fontsize=30)"
   ]
  },
  {
   "cell_type": "code",
   "execution_count": null,
   "metadata": {},
   "outputs": [],
   "source": [
    "fig, ax = plt.subplots(nrows=1, ncols=1, figsize=(16, 10), facecolor='white')\n",
    "cut = (mc_beam_farr['sim_hit_layer'] == 5) & (mc_beam_farr['sim_hit_is_top'] == 1) & (mc_beam_farr['sim_hit_strip_size'] > 1)\n",
    "draw_histogram1D(ax, mc_beam_farr['sim_hit_strip_res_x'][cut], -25, 25, 101, \n",
    "                 x_label='Sim Hit x - Strip Hit x (mm), Layer 2 - Top - Axial')\n",
    "\n",
    "#ax.legend(loc=2, fontsize=30)"
   ]
  },
  {
   "cell_type": "code",
   "execution_count": null,
   "metadata": {},
   "outputs": [],
   "source": [
    "fig, ax = plt.subplots(nrows=1, ncols=1, figsize=(16, 10), facecolor='white')\n",
    "cut = (mc_beam_farr['sim_hit_layer'] == 5) & (mc_beam_farr['sim_hit_is_top'] == 1) & (mc_beam_farr['sim_hit_strip_size'] > 1)\n",
    "draw_histogram1D(ax, mc_beam_farr['sim_hit_strip_res_x'][cut], -10, 10, 101, \n",
    "                 x_label='Pull, Layer 2 - Top - Axial')"
   ]
  },
  {
   "cell_type": "code",
   "execution_count": null,
   "metadata": {},
   "outputs": [],
   "source": [
    "fig, ax = plt.subplots(nrows=1, ncols=1, figsize=(16, 10), facecolor='white')\n",
    "cut = (mc_beam_farr['sim_hit_layer'] == 1) & (mc_beam_farr['sim_hit_is_top'] == 1) & (mc_beam_farr['sim_hit_raw_strip'] < 256)\n",
    "draw_histogram1D(ax, mc_beam_farr['sim_hit_strip_res_y'][cut], -0.15, 0.15, 101, \n",
    "                 x_label='Sim Hit y - Strip Hit y (mm), Layer 0 - Top - Axial', label='Channel < 256')\n",
    "#cut = cut & (mc_beam_farr['sim_cluster_size'] > 1)\n",
    "\n",
    "cut = (mc_beam_farr['sim_hit_layer'] == 1) & (mc_beam_farr['sim_hit_is_top'] == 1) & (mc_beam_farr['sim_hit_raw_strip'] >= 256)\n",
    "draw_histogram1D(ax, mc_beam_farr['sim_hit_strip_res_y'][cut], -0.15, 0.15, 101, label='Channel >= 256')\n",
    "\n",
    "ax.legend(loc=2, fontsize=30)"
   ]
  },
  {
   "cell_type": "code",
   "execution_count": null,
   "metadata": {},
   "outputs": [],
   "source": []
  },
  {
   "cell_type": "code",
   "execution_count": null,
   "metadata": {},
   "outputs": [],
   "source": [
    "fig, ax = plt.subplots(nrows=1, ncols=1, figsize=(16, 10), facecolor='white')\n",
    "cut = (mc_beam_farr['sim_hit_layer'] == 5) & (mc_beam_farr['sim_hit_is_top'] == 1) \n",
    "draw_histogram1D(ax, mc_beam_farr['sim_hit_strip_res_y'][cut], -.15, .15, 101, \n",
    "                 x_label='Sim Hit x - Strip Hit x (mm), Layer 2 - Top - Axial')\n",
    "\n",
    "#ax.legend(loc=2, fontsize=30)"
   ]
  },
  {
   "cell_type": "code",
   "execution_count": null,
   "metadata": {},
   "outputs": [],
   "source": [
    "fig, ax = plt.subplots(nrows=1, ncols=1, figsize=(16, 10), facecolor='white')\n",
    "cut = (mc_beam_farr['sim_hit_layer'] == 1) & (mc_beam_farr['sim_hit_is_top'] == 1) & (mc_beam_farr['sim_hit_raw_strip'] < 256) \n",
    "cut = cut & (mc_beam_farr['sim_hit_strip_res_y'] != -9999)\n",
    "draw_histogram1D(ax, mc_beam_farr['sim_hit_strip_res_y'][cut]/mc_beam_farr['sim_hit_strip_res_yerr'][cut], -2, 2, 101, \n",
    "                 x_label='Pull, Layer 0 - Top - Axial', label='Channel < 256')\n",
    "\n",
    "cut = (mc_beam_farr['sim_hit_layer'] == 1) & (mc_beam_farr['sim_hit_is_top'] == 1) & (mc_beam_farr['sim_hit_raw_strip'] >= 256)\n",
    "cut = cut & (mc_beam_farr['sim_hit_strip_res_y'] != -9999)\n",
    "draw_histogram1D(ax, mc_beam_farr['sim_hit_strip_res_y'][cut]/mc_beam_farr['sim_hit_strip_res_yerr'][cut], -2, 2, 101, label='Channel >= 256')\n",
    "\n",
    "ax.legend(loc=2, fontsize=30)"
   ]
  },
  {
   "cell_type": "code",
   "execution_count": null,
   "metadata": {},
   "outputs": [],
   "source": [
    "fig, ax = plt.subplots(nrows=1, ncols=1, figsize=(16, 10), facecolor='white')\n",
    "cut = (mc_beam_farr['sim_hit_layer'] == 5) & (mc_beam_farr['sim_hit_is_top'] == 1)\n",
    "cut = cut & (mc_beam_farr['sim_hit_strip_res_y'] != -9999)\n",
    "draw_histogram1D(ax, mc_beam_farr['sim_hit_strip_res_y'][cut]/mc_beam_farr['sim_hit_strip_res_yerr'][cut], -2, 2, 101, \n",
    "                 x_label='Pull, Layer 2 - Top - Axial', label='Channel < 256')"
   ]
  },
  {
   "cell_type": "code",
   "execution_count": null,
   "metadata": {},
   "outputs": [],
   "source": []
  }
 ],
 "metadata": {
  "kernelspec": {
   "display_name": "Python 3",
   "language": "python",
   "name": "python3"
  },
  "language_info": {
   "codemirror_mode": {
    "name": "ipython",
    "version": 3
   },
   "file_extension": ".py",
   "mimetype": "text/x-python",
   "name": "python",
   "nbconvert_exporter": "python",
   "pygments_lexer": "ipython3",
   "version": "3.6.10"
  }
 },
 "nbformat": 4,
 "nbformat_minor": 2
}
