{
 "cells": [
  {
   "cell_type": "code",
   "execution_count": null,
   "metadata": {
    "collapsed": true
   },
   "outputs": [],
   "source": [
    "# This allows matplotlib plots to be shown inline\n",
    "%matplotlib inline\n",
    "\n",
    "import numpy as np\n",
    "import matplotlib.pyplot as plt\n",
    "\n",
    "# Use the Bayesian Methods for Hackers style\n",
    "plt.style.use('bmh')"
   ]
  },
  {
   "cell_type": "code",
   "execution_count": null,
   "metadata": {
    "collapsed": false
   },
   "outputs": [],
   "source": [
    "mc_mr = np.genfromtxt(\"mc_mass_resolution.csv\", \n",
    "                     dtype=[('mass', 'f8'), \n",
    "                            ('mass_error', 'f8'),\n",
    "                            ('mass_sigma', 'f8'),\n",
    "                            ('mass_sigma_error', 'f8')],\n",
    "                     delimiter=\",\"\n",
    "                    )\n",
    "\n",
    "data_mr = np.genfromtxt(\"data_mass_resolution.csv\", \n",
    "                     dtype=[('mass', 'f8'), \n",
    "                            ('mass_error', 'f8'),\n",
    "                            ('mass_sigma', 'f8'),\n",
    "                            ('mass_sigma_error', 'f8')],\n",
    "                     delimiter=\",\"\n",
    "                    )"
   ]
  },
  {
   "cell_type": "code",
   "execution_count": null,
   "metadata": {
    "collapsed": false
   },
   "outputs": [],
   "source": [
    "plt.errorbar(mc_mr[\"mass\"], mc_mr[\"mass_sigma\"], xerr=mc_mr[\"mass_error\"], yerr=mc_mr[\"mass_sigma_error\"], fmt='o')\n",
    "plt.errorbar(data_mr[\"mass\"], data_mr[\"mass_sigma\"], xerr=data_mr[\"mass_error\"], yerr=data_mr[\"mass_sigma_error\"], fmt='o')"
   ]
  },
  {
   "cell_type": "code",
   "execution_count": null,
   "metadata": {
    "collapsed": true
   },
   "outputs": [],
   "source": []
  }
 ],
 "metadata": {
  "kernelspec": {
   "display_name": "Python 2",
   "language": "python",
   "name": "python2"
  },
  "language_info": {
   "codemirror_mode": {
    "name": "ipython",
    "version": 2
   },
   "file_extension": ".py",
   "mimetype": "text/x-python",
   "name": "python",
   "nbconvert_exporter": "python",
   "pygments_lexer": "ipython2",
   "version": "2.7.10"
  }
 },
 "nbformat": 4,
 "nbformat_minor": 0
}
