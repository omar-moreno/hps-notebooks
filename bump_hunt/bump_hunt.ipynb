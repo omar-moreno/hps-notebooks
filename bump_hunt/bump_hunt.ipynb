{
 "cells": [
  {
   "cell_type": "markdown",
   "metadata": {},
   "source": [
    "# Searching for a Resonance \n",
    "\n",
    "### Omar Moreno (Santa Cruz Institute for Particle Physics, University of California, Santa Cruz)\n",
    "\n",
    "## Introduction\n",
    "\n",
    "If a heavy photon does indeed exist and has a mass that is within the acceptance of the Heavy Photon Search detector, it will appear as a resonance above the copious Quantum Electrodynamic trident invariant mass spectrum.  Such a signal would be Gaussian in shape, centered at the $A'$ mass with unknown normalization and a width equal to the mass resolution of HPS at the $A'$ mass. Searching for such a signal can be performed by constructing a window around the $A'$ mass hypothesis and fitting the selected range with a model composed of a polynomial, for the background, and a Gaussian for the signal.  The width and mean of the signal are taken as fixed parameters while the normalization of the Gaussian and coefficients of the polynomial are chosen such that they maximize the Poisson likelihood of the data.  The size of the window is dependent on the mass resolution."
   ]
  },
  {
   "cell_type": "code",
   "execution_count": null,
   "metadata": {
    "collapsed": false
   },
   "outputs": [],
   "source": [
    "# This allows matplotlib plots to be shown inline\n",
    "%matplotlib inline\n",
    "\n",
    "import math\n",
    "import matplotlib\n",
    "import matplotlib.pyplot as plt\n",
    "import numpy as np\n",
    "import root_numpy as rnp\n",
    "import ROOT as r\n",
    "\n",
    "# Use the Bayesian Methods for Hackers style\n",
    "plt.style.use('bmh')\n",
    "plt.rc('text', usetex=True)\n",
    "matplotlib.rcParams.update({'font.size' : 20})"
   ]
  },
  {
   "cell_type": "code",
   "execution_count": null,
   "metadata": {
    "collapsed": false
   },
   "outputs": [],
   "source": [
    "# Path to the ROOT file that will be used to obtain the toy invariant mass distributions used to evaluate the fitter\n",
    "file_path = \"/home/omoreno/work/hps/analysis/engrun2015/pass4pt1/mc_1pt05/tridents/trident_analysis.root\"\n",
    "\n",
    "results_rec = rnp.root2array(file_path)"
   ]
  },
  {
   "cell_type": "code",
   "execution_count": null,
   "metadata": {
    "collapsed": false
   },
   "outputs": [],
   "source": [
    "bins = np.linspace(0, 0.1, 2000)\n",
    "\n",
    "mass_arr = results_rec[\"invariant_mass\"]\n",
    "electron_chi2_arr = results_rec[\"electron_chi2\"]\n",
    "positron_chi2_arr = results_rec[\"positron_chi2\"]\n",
    "e_p_arr = results_rec[\"electron_p\"]\n",
    "p_p_arr = results_rec[\"positron_p\"]\n",
    "vx_arr = results_rec[\"vx\"]\n",
    "vy_arr = results_rec[\"vy\"]\n",
    "v0_p_arr = results_rec[\"v0_p\"]\n",
    "\n",
    "mass_arr_cuts = mass_arr[\n",
    "            (electron_chi2_arr < 15) & (positron_chi2_arr < 15) &\n",
    "            (e_p_arr < 0.85) & (p_p_arr < 0.85) &\n",
    "            (((vx_arr*vx_arr/(0.04)) + (vy_arr*vy_arr/(0.0025))) < 1) &\n",
    "            (v0_p_arr > 0.85)]\n",
    "\n",
    "fig, ax0 = plt.subplots(nrows=1, ncols=1, figsize=(20, 10))\n",
    "\n",
    "ax0.hist(mass_arr, bins, alpha=0.8, histtype=\"stepfilled\", label=\"All\")\n",
    "ax0.hist(mass_arr_cuts, bins, alpha=0.8, histtype=\"stepfilled\", label=\"Final Selection\")\n",
    "ax0.set_xlabel(\"Invariant Mass M($e^-e^+$) (GeV)\")\n",
    "ax0.set_ylabel(\"Events/0.000005\")\n",
    "ax0.set_yscale('log')\n",
    "ax0.set_xlim(0, 0.08)\n",
    "ax0.legend(loc=2);\n"
   ]
  },
  {
   "cell_type": "markdown",
   "metadata": {},
   "source": [
    "## Mass Resolution"
   ]
  },
  {
   "cell_type": "code",
   "execution_count": null,
   "metadata": {
    "collapsed": false
   },
   "outputs": [],
   "source": [
    "mc_mr = np.genfromtxt(\"mc_mass_resolution.csv\", \n",
    "                     dtype=[('mass', 'f8'), \n",
    "                            ('mass_error', 'f8'),\n",
    "                            ('mass_sigma', 'f8'),\n",
    "                            ('mass_sigma_error', 'f8')],\n",
    "                     delimiter=\",\"\n",
    "                    )\n",
    "\n",
    "fig, (ax0, ax1) = plt.subplots(nrows=1, ncols=2, figsize=(20, 10))\n",
    "\n",
    "# Set the plot labels\n",
    "ax0.set_xlabel(\"$m(ee)$ (MeV)\")\n",
    "ax0.set_ylabel(\"Mass Resolution (MeV)\")\n",
    "\n",
    "# Plot the mass resolutions as a function of mass\n",
    "ax0.errorbar(mc_mr[\"mass\"]*1000, mc_mr[\"mass_sigma\"]*1000,\n",
    "             xerr=mc_mr[\"mass_error\"]*1000, yerr=mc_mr[\"mass_sigma_error\"]*1000,\n",
    "             fmt='o', markersize=10, label=\"$A'$ MC\")\n",
    "ax0.legend(loc=2)\n",
    "\n",
    "results = np.polyfit(mc_mr[\"mass\"]*1000,mc_mr[\"mass_sigma\"]*1000, 3)\n",
    "p = np.poly1d(results)\n",
    "xp =  np.linspace(0, 100, 100)\n",
    "ax0.plot(xp, p(xp), '-');\n",
    "print results\n",
    "\n",
    "residuals = mc_mr[\"mass_sigma\"]*1000 - p(mc_mr[\"mass\"]*1000)\n",
    "ax1.errorbar(mc_mr[\"mass\"]*1000, residuals, yerr=mc_mr[\"mass_sigma_error\"]*1000, fmt='o');\n",
    "ax1.set_xlabel(\"$m(e^{+}e^{-})$ (GeV)\")\n",
    "ax1.set_ylabel(\"Residual\");\n",
    "\n",
    "def get_mass_resolution(mass) : \n",
    "    return -6.166*math.pow(mass, 3) + 0.9069*math.pow(mass, 2) - 0.00297*mass + 0.000579"
   ]
  },
  {
   "cell_type": "markdown",
   "metadata": {},
   "source": [
    "## Searching for a Resonance\n",
    "\n",
    "As discussed in the introduction, if the heavy photon exist, it is expected to appear as a resonance (i.e. an excess) in the measured $e^+e^-$ invariant mass distribution.  The distribution of those events can be described by the probability density function (PDF) <br\\>\n",
    "<center>\n",
    "$P(m_{e^+e^-}) =  \\mu\\phi(m_{e^+e^-} | m_{A'}, \\sigma) + Bb(m_{e^+e^-}, a_i)$\n",
    "</center>\n",
    "Here, $\\phi(m_{e^+e^-} | m_{A'}, \\sigma)$ is a Gaussian with a mass set to the hypothesized $A'$ mass and width set to the measured experimental mass resolution, while the background, $b(m_{e^+e^-}, a_i)$, is a 7th order polynomial."
   ]
  },
  {
   "cell_type": "code",
   "execution_count": null,
   "metadata": {
    "collapsed": false
   },
   "outputs": [],
   "source": [
    "# Independent variable\n",
    "invariant_mass = r.RooRealVar(\"Invariant Mass\", \"Invariant Mass (GeV)\", 0.0, 0.1)\n",
    "\n",
    "#\n",
    "# Signal PDF\n",
    "#\n",
    "\n",
    "ap_mass_hypothesis = 0.024525\n",
    "print \"A' mass hypothesis: %f\" % (ap_mass_hypothesis)\n",
    "# The mean of the signal must be set and can't vary\n",
    "ap_mass_mean = r.RooRealVar(\"m_{A'}\", \"m_{A'}\", ap_mass_hypothesis)\n",
    "\n",
    "# The resolution of the signal is set to the value found experimentally\n",
    "print \"A' mass resolution: %f\" % (get_mass_resolution(ap_mass_hypothesis))\n",
    "ap_mass_sigma = r.RooRealVar(\"m_{\\sigma}\", \"m_{\\sigma}\", get_mass_resolution(ap_mass_hypothesis))\n",
    "\n",
    "# Create a gaussian signal pdf with the mean at the mass hypothesis and sigma\n",
    "# set to the mass resolution\n",
    "signal = r.RooGaussian(\"signal\", \"signal\", invariant_mass, ap_mass_mean, ap_mass_sigma)\n",
    "\n",
    "#\n",
    "# Background PDF's\n",
    "#\n",
    "\n",
    "# Variables used to define polynomials\n",
    "arg_list = r.RooArgList()\n",
    "a = []\n",
    "for order in xrange(1, 8) : \n",
    "    name = \"t\" + str(order)\n",
    "    a.append(r.RooRealVar(name, name, -2, 2))\n",
    "    arg_list.add(a[order - 1])\n",
    "    \n",
    "bkg = r.RooChebychev(\"bkg\", \n",
    "                     \"bkg\", \n",
    "                     invariant_mass, \n",
    "                     arg_list)\n",
    "\n",
    "# Number of events\n",
    "nsig = r.RooRealVar(\"signal yield\",\"signal yield\", 0., -100000, 100000)\n",
    "nbkg = r.RooRealVar(\"bkg yield\",\"bkg yield\", 300000., 100., 10000000.) \n",
    "\n",
    "#\n",
    "# Composite model\n",
    "#\n",
    "\n",
    "comp_model = r.RooAddPdf(\"comp model\", \n",
    "                         \"comp model\", \n",
    "                          r.RooArgList(signal, bkg), \n",
    "                          r.RooArgList(nsig, nbkg))"
   ]
  },
  {
   "cell_type": "markdown",
   "metadata": {
    "collapsed": true
   },
   "source": [
    "## Searching for a new particle\n",
    "\n",
    "Establishing whether the signal+background model is significantly different from the background only model is typically done using the profile likelihood ratio and the test statistic $q_0$."
   ]
  },
  {
   "cell_type": "code",
   "execution_count": null,
   "metadata": {
    "collapsed": true
   },
   "outputs": [],
   "source": []
  }
 ],
 "metadata": {
  "kernelspec": {
   "display_name": "Python 2",
   "language": "python",
   "name": "python2"
  },
  "language_info": {
   "codemirror_mode": {
    "name": "ipython",
    "version": 2
   },
   "file_extension": ".py",
   "mimetype": "text/x-python",
   "name": "python",
   "nbconvert_exporter": "python",
   "pygments_lexer": "ipython2",
   "version": "2.7.10"
  }
 },
 "nbformat": 4,
 "nbformat_minor": 0
}
