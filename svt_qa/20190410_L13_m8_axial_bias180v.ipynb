{
 "cells": [
  {
   "cell_type": "markdown",
   "metadata": {},
   "source": [
    "# Spare -  Module 8 - Axial\n",
    "---\n",
    "Found to have bad channels is APV's furthest from the beam\n",
    "\n",
    "### Data \n",
    "Events: 2000\n",
    "Bias: 180 V"
   ]
  },
  {
   "cell_type": "code",
   "execution_count": 1,
   "metadata": {},
   "outputs": [
    {
     "name": "stdout",
     "output_type": "stream",
     "text": [
      "Welcome to JupyROOT 6.12/06\n"
     ]
    }
   ],
   "source": [
    "from notebook_utils import *\n",
    "\n",
    "# Create ROOT canvas\n",
    "canvas = r.TCanvas()\n",
    "canvas.SetLogy(0)\n",
    "canvas.SetLogx(0)"
   ]
  },
  {
   "cell_type": "code",
   "execution_count": 2,
   "metadata": {},
   "outputs": [],
   "source": [
    "ntuple = rnp.root2array('20190410_module8_axial_b180v.root', 'SVT_QA')"
   ]
  },
  {
   "cell_type": "code",
   "execution_count": null,
   "metadata": {},
   "outputs": [],
   "source": [
    "events = np.unique(ntuple[\"event\"])\n",
    "pchannels = np.unique(ntuple['pchannel'])\n",
    "\n",
    "hists = collections.OrderedDict()\n",
    "samples = {}\n",
    "for channel in pchannels: \n",
    "    samples[\"Channel %s - Sample 0\" % channel] = ntuple['sample0'][ntuple['pchannel'] == channel]\n",
    "    samples[\"Channel %s - Sample 1\" % channel] = ntuple['sample1'][ntuple['pchannel'] == channel]\n",
    "    samples[\"Channel %s - Sample 2\" % channel] = ntuple['sample2'][ntuple['pchannel'] == channel]\n",
    "    samples[\"Channel %s - Sample 3\" % channel] = ntuple['sample3'][ntuple['pchannel'] == channel]\n",
    "    samples[\"Channel %s - Sample 4\" % channel] = ntuple['sample4'][ntuple['pchannel'] == channel]\n",
    "    samples[\"Channel %s - Sample 5\" % channel] = ntuple['sample5'][ntuple['pchannel'] == channel]"
   ]
  },
  {
   "cell_type": "code",
   "execution_count": null,
   "metadata": {},
   "outputs": [],
   "source": [
    "hist = draw_hist2D(ntuple['pchannel'], ntuple['sample0'], 640, 0, 640, 16384, 0, 16384, []) \n",
    "\n",
    "hist.Draw(\"colz\")\n",
    "hist.GetXaxis().SetTitle('Physical Channel Number')\n",
    "hist.GetYaxis().SetTitle('Sample 0 Baseline (ADC Counts)')\n",
    "\n",
    "canvas.Draw()"
   ]
  },
  {
   "cell_type": "code",
   "execution_count": null,
   "metadata": {},
   "outputs": [],
   "source": [
    "hist = draw_hist2D(ntuple['pchannel'], ntuple['sample1'], 640, 0, 640, 16384, 0, 16384, []) \n",
    "\n",
    "hist.Draw(\"colz\")\n",
    "hist.GetXaxis().SetTitle('Physical Channel Number')\n",
    "hist.GetYaxis().SetTitle('Sample 1 Baseline (ADC Counts)')\n",
    "\n",
    "canvas.Draw()"
   ]
  },
  {
   "cell_type": "code",
   "execution_count": null,
   "metadata": {},
   "outputs": [],
   "source": [
    "hist = draw_hist2D(ntuple['pchannel'], ntuple['sample2'], 640, 0, 640, 16384, 0, 16384, []) \n",
    "\n",
    "hist.Draw(\"colz\")\n",
    "hist.GetXaxis().SetTitle('Physical Channel Number')\n",
    "hist.GetYaxis().SetTitle('Sample 2 Baseline (ADC Counts)')\n",
    "\n",
    "canvas.Draw()"
   ]
  },
  {
   "cell_type": "code",
   "execution_count": null,
   "metadata": {},
   "outputs": [],
   "source": [
    "hist = draw_hist2D(ntuple['pchannel'], ntuple['sample3'], 640, 0, 640, 16384, 0, 16384, []) \n",
    "\n",
    "hist.Draw(\"colz\")\n",
    "hist.GetXaxis().SetTitle('Physical Channel Number')\n",
    "hist.GetYaxis().SetTitle('Sample 3 Baseline (ADC Counts)')\n",
    "\n",
    "canvas.Draw()"
   ]
  },
  {
   "cell_type": "code",
   "execution_count": null,
   "metadata": {},
   "outputs": [],
   "source": [
    "hist = draw_hist2D(ntuple['pchannel'], ntuple['sample4'], 640, 0, 640, 16384, 0, 16384, []) \n",
    "\n",
    "hist.Draw(\"colz\")\n",
    "hist.GetXaxis().SetTitle('Physical Channel Number')\n",
    "hist.GetYaxis().SetTitle('Sample 4 Baseline (ADC Counts)')\n",
    "\n",
    "canvas.Draw()"
   ]
  },
  {
   "cell_type": "code",
   "execution_count": null,
   "metadata": {},
   "outputs": [],
   "source": [
    "hist = draw_hist2D(ntuple['pchannel'], ntuple['sample5'], 640, 0, 640, 16384, 0, 16384, []) \n",
    "\n",
    "hist.Draw(\"colz\")\n",
    "hist.GetXaxis().SetTitle('Physical Channel Number')\n",
    "hist.GetYaxis().SetTitle('Sample 5 Baseline (ADC Counts)')\n",
    "\n",
    "canvas.Draw()"
   ]
  },
  {
   "cell_type": "code",
   "execution_count": null,
   "metadata": {},
   "outputs": [],
   "source": [
    "gmeans = collections.OrderedDict([\n",
    "    (\"Sample0\",r.TGraphErrors(len(pchannels))), \n",
    "    (\"Sample1\",r.TGraphErrors(len(pchannels))), \n",
    "    (\"Sample2\",r.TGraphErrors(len(pchannels))),\n",
    "    (\"Sample3\",r.TGraphErrors(len(pchannels))),\n",
    "    (\"Sample4\",r.TGraphErrors(len(pchannels))),\n",
    "    (\"Sample5\",r.TGraphErrors(len(pchannels))) \n",
    "])\n",
    "\n",
    "legend = r.TLegend(0.75, .75, 1.0, 1.0)\n",
    "legend.SetLineColor(r.kWhite)\n",
    "\n",
    "for channel in pchannels : \n",
    "    for i, graph in enumerate(gmeans.values()):\n",
    "        mean = np.mean(samples[\"Channel %s - Sample %s\" % (channel, i)])\n",
    "        graph.SetPoint(int(channel), channel, mean)\n",
    "        graph.SetMarkerColor(rcolors[i].GetNumber())\n",
    "        graph.SetMarkerStyle(20)\n",
    "        graph.SetMarkerSize(1)\n",
    "        graph.GetXaxis().SetTitle('Physical Channel Number')\n",
    "        graph.GetXaxis().CenterTitle()\n",
    "        graph.GetYaxis().SetTitle('Mean Baseline (ADC Counts)')\n",
    "        graph.GetYaxis().CenterTitle()\n",
    "        graph.GetYaxis().SetRangeUser(4000, 8500)\n",
    "        \n",
    "\n",
    "gmeans[\"Sample0\"].Draw(\"ap\")\n",
    "for sample in gmeans:\n",
    "    gmeans[sample].Draw(\"same p\")\n",
    "    legend.AddEntry(gmeans[sample], sample, 'p')\n",
    "\n",
    "legend.Draw()\n",
    "canvas.Draw()"
   ]
  },
  {
   "cell_type": "code",
   "execution_count": null,
   "metadata": {},
   "outputs": [],
   "source": [
    "gnoise = collections.OrderedDict([\n",
    "          (\"Sample0\",Graph(len(pchannels))),\n",
    "          (\"Sample1\",Graph(len(pchannels))),\n",
    "          (\"Sample2\",Graph(len(pchannels))),\n",
    "          (\"Sample3\",Graph(len(pchannels))),\n",
    "          (\"Sample4\",Graph(len(pchannels))),\n",
    "          (\"Sample5\",Graph(len(pchannels))) \n",
    "])\n",
    "\n",
    "legend = r.TLegend(0.25, .25, 0.45, 0.45)\n",
    "legend.SetLineColor(r.kWhite)\n",
    "\n",
    "for channel in pchannels: \n",
    "    for i, graph in enumerate(gnoise.values()):\n",
    "        sigma = np.std(samples[\"Channel %s - Sample %s\" % (channel, i)])\n",
    "        graph.SetPoint(int(channel), channel, sigma)\n",
    "        graph.markerstyle = 20\n",
    "        graph.markersize = 1\n",
    "        graph.xaxis.SetTitle(\"Physical Channel Number\")\n",
    "        graph.xaxis.CenterTitle()\n",
    "        graph.yaxis.SetTitle(\"Noise (ADC Counts)\")\n",
    "        graph.yaxis.CenterTitle()\n",
    "        graph.yaxis.SetRangeUser(5, 50)\n",
    "        graph.color = colors[i]\n",
    "        \n",
    "gnoise['Sample0'].Draw('ap')\n",
    "legend.AddEntry(gnoise['Sample0'], 'Sample0', 'p')\n",
    "for sample in gnoise:\n",
    "    if sample == 'Sample0': continue\n",
    "    legend.AddEntry(gnoise[sample], sample, 'p')\n",
    "    gnoise[sample].Draw('p same')\n",
    "\n",
    "legend.Draw()\n",
    "\n",
    "canvas.Draw()"
   ]
  },
  {
   "cell_type": "code",
   "execution_count": null,
   "metadata": {},
   "outputs": [],
   "source": []
  }
 ],
 "metadata": {
  "hide_input": false,
  "kernelspec": {
   "display_name": "Python 2",
   "language": "python",
   "name": "python2"
  },
  "language_info": {
   "codemirror_mode": {
    "name": "ipython",
    "version": 2
   },
   "file_extension": ".py",
   "mimetype": "text/x-python",
   "name": "python",
   "nbconvert_exporter": "python",
   "pygments_lexer": "ipython2",
   "version": "2.7.14"
  }
 },
 "nbformat": 4,
 "nbformat_minor": 2
}
